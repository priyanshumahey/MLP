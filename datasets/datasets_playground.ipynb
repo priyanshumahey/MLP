{
 "cells": [
  {
   "cell_type": "code",
   "execution_count": 2,
   "metadata": {},
   "outputs": [],
   "source": [
    "from torchvision import datasets\n",
    "import matplotlib.pyplot as plt"
   ]
  },
  {
   "cell_type": "code",
   "execution_count": 1,
   "metadata": {},
   "outputs": [],
   "source": [
    "def numbers_dataset(location='./data', download=True):\n",
    "    train_set = datasets.MNIST(location, train=True, download=download)\n",
    "    test_set = datasets.MNIST(location, train=False, download=download)\n",
    "\n",
    "    train_set_array = train_set.data.numpy()\n",
    "    train_set_labels = train_set.targets.numpy()\n",
    "    test_set_array = test_set.data.numpy()\n",
    "    test_set_labels = test_set.targets.numpy()\n",
    "    return train_set_array, test_set_array, train_set_labels, test_set_labels"
   ]
  },
  {
   "cell_type": "code",
   "execution_count": null,
   "metadata": {},
   "outputs": [],
   "source": [
    "def visualize(dataset, label, image_num):\n",
    "    mnist_image = dataset[image_num].reshape(28, 28)\n",
    "    plt.imshow(mnist_image)\n",
    "    plt.title(f'True Value: {label[image_num]}')\n",
    "    plt.show()"
   ]
  }
 ],
 "metadata": {
  "kernelspec": {
   "display_name": "Python 3",
   "language": "python",
   "name": "python3"
  },
  "language_info": {
   "codemirror_mode": {
    "name": "ipython",
    "version": 3
   },
   "file_extension": ".py",
   "mimetype": "text/x-python",
   "name": "python",
   "nbconvert_exporter": "python",
   "pygments_lexer": "ipython3",
   "version": "3.9.13"
  },
  "orig_nbformat": 4
 },
 "nbformat": 4,
 "nbformat_minor": 2
}
